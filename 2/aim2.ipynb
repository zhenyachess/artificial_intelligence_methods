{
  "nbformat": 4,
  "nbformat_minor": 0,
  "metadata": {
    "colab": {
      "provenance": [],
      "collapsed_sections": []
    },
    "kernelspec": {
      "name": "python3",
      "display_name": "Python 3"
    },
    "language_info": {
      "name": "python"
    }
  },
  "cells": [
    {
      "cell_type": "markdown",
      "source": [
        "**Практическая работа №2. Метод стохастического градиента с логистической регрессией.**\n",
        "\n",
        "На вход подаются обучающая выборка из точек и номера их кластеров.\n",
        "Требуется найти вектор весов, при котором достигается минимум аппроксимированного риска.\n",
        "Из полученного вектора весов строится линейный классификатор для выборки."
      ],
      "metadata": {
        "id": "thGEvbHjXbXg"
      }
    },
    {
      "cell_type": "code",
      "execution_count": null,
      "metadata": {
        "colab": {
          "base_uri": "https://localhost:8080/",
          "height": 506
        },
        "id": "YsvOOI742fiQ",
        "outputId": "994df90c-d0e9-49d9-d4e6-49cb1142875e"
      },
      "outputs": [
        {
          "output_type": "stream",
          "name": "stdout",
          "text": [
            "Начальное значение функционала = 99.71159601293279\n",
            "Начальный вектор весов = [0.00177126 0.00284911 0.00020466]\n",
            "Условие остановы при эпсилон, равным 1e-05\n",
            "---------\n",
            "688 ИТЕРАЦИЯ:\n",
            "--- Функционал Q ---\n",
            "Старый функционал = 0.16372799427716717\n",
            "Новый функционал  = 0.16373261806039435\n",
            "Разница           = 4.623783227186706e-06\n",
            "--- Веса w ---\n",
            "Старые веса = [ 1.62792342  2.49543151 -6.07736551]\n",
            "Новые веса  = [ 1.70322298  2.51694567 -6.05585135]\n",
            "Разница     = 0.007208685342949828\n"
          ]
        },
        {
          "output_type": "display_data",
          "data": {
            "text/plain": [
              "<Figure size 432x288 with 1 Axes>"
            ],
            "image/png": "[encoded data removed]"
          },
          "metadata": {
            "needs_background": "light"
          }
        }
      ],
      "source": [
        "import matplotlib.pyplot as plt\n",
        "import numpy as np\n",
        "import random\n",
        "import math\n",
        "import requests\n",
        "from copy import deepcopy\n",
        "\n",
        "RANDOM_SEED = 19\n",
        "random.seed(RANDOM_SEED)\n",
        "\n",
        "response = requests.get(\"https://raw.githubusercontent.com/zhenyachess/artificial_intelligence_methods/main/2/iris_cropped.json\")\n",
        "points = np.array(response.json())\n",
        "\n",
        "MIN_X, MAX_X = min(points[:, 0]), max(points[:, 0])\n",
        "MIN_Y, MAX_Y = min(points[:, 1]), max(points[:, 1])\n",
        "\n",
        "LEN_POINTS = len(points)\n",
        "\n",
        "LEN_WEIGHTS = 3\n",
        "BOUND_WEIGHT = 1/(2*LEN_POINTS)\n",
        "\n",
        "for i in range(LEN_POINTS):\n",
        "  points[i][2] = -1 if points[i][2] == 0 else points[i][2]\n",
        "\n",
        "res = points[:, 2].copy()\n",
        "w = np.array([random.uniform(-BOUND_WEIGHT, BOUND_WEIGHT) for _ in range(LEN_WEIGHTS)])\n",
        "\n",
        "EPS = 0.00001\n",
        "_LAMBDA = 1 / LEN_POINTS\n",
        "\n",
        "points[:, 2] = 1.0\n",
        "\n",
        "\n",
        "def line(weights, x0):\n",
        "    return -(weights[0]*x0 + weights[2])/weights[1]\n",
        "\n",
        "\n",
        "def sigma(x):\n",
        "    return 1 / (1 + math.exp(-x))\n",
        "\n",
        "\n",
        "def calculate_net(point, weights):\n",
        "    return np.dot(point, weights)\n",
        "\n",
        "\n",
        "def calculate_w(l_rate, weights, point, need_res):\n",
        "    return weights + l_rate * need_res * point * sigma(-calculate_net(point, weights) * need_res)\n",
        "\n",
        "\n",
        "def loss(x):\n",
        "    return math.log2(1 + math.exp(-x))\n",
        "\n",
        "\n",
        "def diff_norm(v1, v2):\n",
        "    return abs(np.linalg.norm(v1) - np.linalg.norm(v2))\n",
        "\n",
        "\n",
        "def calculate_q(q, _lambda, err):\n",
        "    return (1 - _lambda) * q + _lambda * err\n",
        "\n",
        "\n",
        "Q = sum(loss(calculate_net(p, w) * res) for p, res in zip(points, res))\n",
        "\n",
        "print(f\"Начальное значение функционала = {Q}\")\n",
        "print(f\"Начальный вектор весов = {w}\")\n",
        "print(f\"Условие остановы при эпсилон, равным {EPS}\")\n",
        "\n",
        "GEN_CNT = 0\n",
        "while True:\n",
        "    # Выбираем случайный объект из выборки\n",
        "    i = random.randint(0, LEN_POINTS-1)\n",
        "    # Вычисляем выходное значение алгоритма\n",
        "    net = calculate_net(points[i], w)\n",
        "    # Вычисляем ошибку\n",
        "    error = loss(net * res[i])\n",
        "    # Сохраняем веса с предыдущего шага\n",
        "    w_prev = deepcopy(w)\n",
        "    # Сохраняем значение функционала с предыдущего шага\n",
        "    q_prev = Q\n",
        "    # Делаем шаг градиентного спуска\n",
        "    w = calculate_w(0.2, w, points[i], res[i])\n",
        "    # Оцениваем значение функционала\n",
        "    Q = calculate_q(Q, _LAMBDA, error)\n",
        "\n",
        "    GEN_CNT += 1\n",
        "\n",
        "    # Правило остановы при стабилизации весов или функционала\n",
        "    if abs(Q - q_prev) < EPS or diff_norm(w, w_prev) < EPS:\n",
        "        print(f\"---------\\n{GEN_CNT} ИТЕРАЦИЯ:\")\n",
        "\n",
        "        print(\"--- Функционал Q ---\")\n",
        "        print(f\"Старый функционал = {q_prev}\")\n",
        "        print(f\"Новый функционал  = {Q}\")\n",
        "        print(f\"Разница           = {abs(Q-q_prev)}\")\n",
        "\n",
        "        print(\"--- Веса w ---\")\n",
        "        print(f\"Старые веса = {w_prev}\")\n",
        "        print(f\"Новые веса  = {w}\")\n",
        "        print(f\"Разница     = {diff_norm(w_prev, w)}\")    \n",
        "        break\n",
        "\n",
        "\n",
        "res = []\n",
        "for point in points:\n",
        "    value = calculate_net(point, w)\n",
        "    if np.sign(value) > 0:\n",
        "        plt.scatter(point[0], point[1], c='g', s=20)\n",
        "    else:\n",
        "        plt.scatter(point[0], point[1], c='r', s=20)\n",
        "    res.append(np.sign(value))\n",
        "\n",
        "\n",
        "x1 = [MIN_X, MAX_X]\n",
        "y1 = [line(w, x1[0]), line(w, x1[1])]\n",
        "plt.plot(x1, y1, marker='o', c='y')\n",
        "plt.xlim([MIN_X-0.2, MAX_X+0.2])\n",
        "plt.ylim([MIN_Y-0.2, MAX_Y+0.2])\n",
        "plt.show()\n",
        " "
      ]
    }
  ]
}