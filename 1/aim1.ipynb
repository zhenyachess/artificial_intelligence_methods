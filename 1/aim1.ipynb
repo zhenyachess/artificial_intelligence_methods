{
  "nbformat": 4,
  "nbformat_minor": 0,
  "metadata": {
    "colab": {
      "provenance": [],
      "collapsed_sections": []
    },
    "kernelspec": {
      "name": "python3",
      "display_name": "Python 3"
    },
    "language_info": {
      "name": "python"
    }
  },
  "cells": [
    {
      "cell_type": "code",
      "execution_count": 9,
      "metadata": {
        "colab": {
          "base_uri": "https://localhost:8080/",
          "height": 305
        },
        "id": "ft_e8RG2c8Po",
        "outputId": "9f868050-c128-4c18-b0c2-45c86684d04b"
      },
      "outputs": [
        {
          "output_type": "stream",
          "name": "stdout",
          "text": [
            "[[5.1, 3.5, 0.0], [4.9, 3.0, 0.0], [4.7, 3.2, 0.0], [4.6, 3.1, 0.0], [5.0, 3.6, 0.0], [5.4, 3.9, 0.0], [4.6, 3.4, 0.0], [5.0, 3.4, 0.0], [4.4, 2.9, 0.0], [4.9, 3.1, 0.0], [5.4, 3.7, 0.0], [4.8, 3.4, 0.0], [4.8, 3.0, 0.0], [4.3, 3.0, 0.0], [5.8, 4.0, 0.0], [5.7, 4.4, 0.0], [5.4, 3.9, 0.0], [5.1, 3.5, 0.0], [5.7, 3.8, 0.0], [5.1, 3.8, 0.0], [5.4, 3.4, 0.0], [5.1, 3.7, 0.0], [4.6, 3.6, 0.0], [5.1, 3.3, 0.0], [4.8, 3.4, 0.0], [5.0, 3.0, 0.0], [5.0, 3.4, 0.0], [5.2, 3.5, 0.0], [5.2, 3.4, 0.0], [4.7, 3.2, 0.0], [4.8, 3.1, 0.0], [5.4, 3.4, 0.0], [5.2, 4.1, 0.0], [5.5, 4.2, 0.0], [4.9, 3.1, 0.0], [5.0, 3.2, 0.0], [5.5, 3.5, 0.0], [4.9, 3.6, 0.0], [4.4, 3.0, 0.0], [5.1, 3.4, 0.0], [5.0, 3.5, 0.0], [4.5, 2.3, 0.0], [4.4, 3.2, 0.0], [5.0, 3.5, 0.0], [5.1, 3.8, 0.0], [4.8, 3.0, 0.0], [5.1, 3.8, 0.0], [4.6, 3.2, 0.0], [5.3, 3.7, 0.0], [5.0, 3.3, 0.0], [7.0, 3.2, 1.0], [6.4, 3.2, 1.0], [6.9, 3.1, 1.0], [5.5, 2.3, 1.0], [6.5, 2.8, 1.0], [5.7, 2.8, 1.0], [6.3, 3.3, 1.0], [4.9, 2.4, 1.0], [6.6, 2.9, 1.0], [5.2, 2.7, 1.0], [5.0, 2.0, 1.0], [5.9, 3.0, 1.0], [6.0, 2.2, 1.0], [6.1, 2.9, 1.0], [5.6, 2.9, 1.0], [6.7, 3.1, 1.0], [5.6, 3.0, 1.0], [5.8, 2.7, 1.0], [6.2, 2.2, 1.0], [5.6, 2.5, 1.0], [5.9, 3.2, 1.0], [6.1, 2.8, 1.0], [6.3, 2.5, 1.0], [6.1, 2.8, 1.0], [6.4, 2.9, 1.0], [6.6, 3.0, 1.0], [6.8, 2.8, 1.0], [6.7, 3.0, 1.0], [6.0, 2.9, 1.0], [5.7, 2.6, 1.0], [5.5, 2.4, 1.0], [5.5, 2.4, 1.0], [5.8, 2.7, 1.0], [6.0, 2.7, 1.0], [5.4, 3.0, 1.0], [6.0, 3.4, 1.0], [6.7, 3.1, 1.0], [6.3, 2.3, 1.0], [5.6, 3.0, 1.0], [5.5, 2.5, 1.0], [5.5, 2.6, 1.0], [6.1, 3.0, 1.0], [5.8, 2.6, 1.0], [5.0, 2.3, 1.0], [5.6, 2.7, 1.0], [5.7, 3.0, 1.0], [5.7, 2.9, 1.0], [6.2, 2.9, 1.0], [5.1, 2.5, 1.0], [5.7, 2.8, 1.0]]\n"
          ]
        },
        {
          "output_type": "display_data",
          "data": {
            "text/plain": [
              "<Figure size 432x288 with 1 Axes>"
            ],
            "image/png": "[encoded data removed]"
          },
          "metadata": {
            "needs_background": "light"
          }
        }
      ],
      "source": [
        "import matplotlib.pyplot as plt\n",
        "import requests\n",
        "from pprint import pprint\n",
        "\n",
        "response = requests.get(\"https://raw.githubusercontent.com/zhenyachess/artificial_intelligence_methods/main/1/iris.json\")\n",
        "convert = response.json()\n",
        "print(convert)\n",
        "\n",
        "def dist(x1, y1, x2, y2):\n",
        "  return (abs(x1-x2)**2 + abs(y1-y2)**2)**0.5\n",
        "\n",
        "def predict(x, y, lst):\n",
        "  return min([[dist(x, y, lst[i][0], lst[i][1]), value[-1]] for i, value in enumerate(lst)], key=lambda x: x[0])[-1]\n",
        "\n",
        "def predict_k(x, y, k, lst):\n",
        "  t = sorted([[dist(x, y, lst[i][0], lst[i][1]), value[-1]] for i, value in enumerate(lst)],key=lambda x: x[0])[:k]\n",
        "  lst = [lst[-1] for lst in t]\n",
        "  l = len(set(lst))\n",
        "  d = {elem:0 for elem in set(lst)}\n",
        "  for elem in lst:\n",
        "    d[elem] += 1\n",
        "  return int(max(d, key=lambda _x: d[_x]))\n",
        "\n",
        "for lst in convert:\n",
        "  if lst[-1] == 0:\n",
        "    plt.scatter(lst[0], lst[1], c='g')\n",
        "  else:\n",
        "    plt.scatter(lst[0], lst[1], c='b')  \n",
        "\n",
        "x_new = 4.75\n",
        "y_new = 2.6\n",
        "\n",
        "if predict_k(x_new, y_new, 3, convert) == 0:\n",
        "  plt.scatter(x_new, y_new, c='g', s=150)\n",
        "else:\n",
        "  plt.scatter(x_new, y_new, c='b', s=150)\n",
        "\n",
        "plt.show()"
      ]
    },
    {
      "cell_type": "code",
      "source": [
        "def quality_prediction(convert):\n",
        "  good = 0\n",
        "  for i in range(len(convert)-1):\n",
        "    t_list = convert[:i] + convert[i+1:]\n",
        "    if predict(convert[i][0], convert[i][1], t_list) == convert[i][-1]:\n",
        "      good += 1\n",
        "  return good/len(convert)"
      ],
      "metadata": {
        "id": "Qnl7f2i2tOel"
      },
      "execution_count": 10,
      "outputs": []
    },
    {
      "cell_type": "code",
      "source": [
        "def k_quality_prediction(k, convert):\n",
        "  good = 0\n",
        "  for i in range(len(convert)-1):\n",
        "    t_list = convert[:i] + convert[i+1:]\n",
        "    if predict_k(convert[i][0], convert[i][1], k, t_list) == convert[i][-1]:\n",
        "      good += 1\n",
        "  return good/len(convert)"
      ],
      "metadata": {
        "id": "sCGBmJtq8EYP"
      },
      "execution_count": 11,
      "outputs": []
    },
    {
      "cell_type": "code",
      "source": [
        "print(quality_prediction(convert))"
      ],
      "metadata": {
        "colab": {
          "base_uri": "https://localhost:8080/"
        },
        "id": "EB1FH4Rhv3xu",
        "outputId": "1fdfe980-7a36-411e-cfce-cdc168406234"
      },
      "execution_count": 12,
      "outputs": [
        {
          "output_type": "stream",
          "name": "stdout",
          "text": [
            "0.98\n"
          ]
        }
      ]
    },
    {
      "cell_type": "code",
      "source": [
        "for k in range(1, len(convert)):\n",
        "    print(\"{}k-test: {}\".format(k, k_quality_prediction(k, convert)))"
      ],
      "metadata": {
        "colab": {
          "base_uri": "https://localhost:8080/"
        },
        "id": "qzYlTLAI8Ot_",
        "outputId": "a64f6035-5a68-4685-e687-6a43be361d6b"
      },
      "execution_count": 13,
      "outputs": [
        {
          "output_type": "stream",
          "name": "stdout",
          "text": [
            "1k-test: 0.98\n",
            "2k-test: 0.98\n",
            "3k-test: 0.98\n",
            "4k-test: 0.98\n",
            "5k-test: 0.98\n",
            "6k-test: 0.98\n",
            "7k-test: 0.98\n",
            "8k-test: 0.99\n",
            "9k-test: 0.99\n",
            "10k-test: 0.99\n",
            "11k-test: 0.99\n",
            "12k-test: 0.99\n",
            "13k-test: 0.99\n",
            "14k-test: 0.99\n",
            "15k-test: 0.99\n",
            "16k-test: 0.99\n",
            "17k-test: 0.99\n",
            "18k-test: 0.99\n",
            "19k-test: 0.99\n",
            "20k-test: 0.99\n",
            "21k-test: 0.99\n",
            "22k-test: 0.98\n",
            "23k-test: 0.99\n",
            "24k-test: 0.98\n",
            "25k-test: 0.99\n",
            "26k-test: 0.98\n",
            "27k-test: 0.98\n",
            "28k-test: 0.98\n",
            "29k-test: 0.98\n",
            "30k-test: 0.98\n",
            "31k-test: 0.98\n",
            "32k-test: 0.98\n",
            "33k-test: 0.98\n",
            "34k-test: 0.98\n",
            "35k-test: 0.99\n",
            "36k-test: 0.99\n",
            "37k-test: 0.99\n",
            "38k-test: 0.98\n",
            "39k-test: 0.99\n",
            "40k-test: 0.99\n",
            "41k-test: 0.99\n",
            "42k-test: 0.99\n",
            "43k-test: 0.99\n",
            "44k-test: 0.98\n",
            "45k-test: 0.99\n",
            "46k-test: 0.98\n",
            "47k-test: 0.98\n",
            "48k-test: 0.98\n",
            "49k-test: 0.98\n",
            "50k-test: 0.95\n",
            "51k-test: 0.96\n",
            "52k-test: 0.96\n",
            "53k-test: 0.97\n",
            "54k-test: 0.94\n",
            "55k-test: 0.95\n",
            "56k-test: 0.95\n",
            "57k-test: 0.95\n",
            "58k-test: 0.94\n",
            "59k-test: 0.94\n",
            "60k-test: 0.94\n",
            "61k-test: 0.94\n",
            "62k-test: 0.94\n",
            "63k-test: 0.95\n",
            "64k-test: 0.94\n",
            "65k-test: 0.94\n",
            "66k-test: 0.94\n",
            "67k-test: 0.94\n",
            "68k-test: 0.94\n",
            "69k-test: 0.94\n",
            "70k-test: 0.94\n",
            "71k-test: 0.94\n",
            "72k-test: 0.93\n",
            "73k-test: 0.93\n",
            "74k-test: 0.93\n",
            "75k-test: 0.94\n",
            "76k-test: 0.93\n",
            "77k-test: 0.94\n",
            "78k-test: 0.93\n",
            "79k-test: 0.93\n",
            "80k-test: 0.93\n",
            "81k-test: 0.93\n",
            "82k-test: 0.93\n",
            "83k-test: 0.93\n",
            "84k-test: 0.93\n",
            "85k-test: 0.93\n",
            "86k-test: 0.92\n",
            "87k-test: 0.93\n",
            "88k-test: 0.93\n",
            "89k-test: 0.93\n",
            "90k-test: 0.93\n",
            "91k-test: 0.93\n",
            "92k-test: 0.91\n",
            "93k-test: 0.92\n",
            "94k-test: 0.88\n",
            "95k-test: 0.9\n",
            "96k-test: 0.86\n",
            "97k-test: 0.84\n",
            "98k-test: 0.5\n",
            "99k-test: 0.0\n"
          ]
        }
      ]
    }
  ]
}